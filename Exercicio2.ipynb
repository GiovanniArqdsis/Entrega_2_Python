{
 "cells": [
  {
   "cell_type": "code",
   "execution_count": 6,
   "metadata": {},
   "outputs": [
    {
     "data": {
      "text/plain": [
       "72"
      ]
     },
     "execution_count": 6,
     "metadata": {},
     "output_type": "execute_result"
    }
   ],
   "source": [
    "lista = [1, 72, 8, 4, 25, 12]\n",
    "lista.sort()\n",
    "lista[5]"
   ]
  },
  {
   "cell_type": "code",
   "execution_count": 13,
   "metadata": {},
   "outputs": [
    {
     "data": {
      "text/plain": [
       "122"
      ]
     },
     "execution_count": 13,
     "metadata": {},
     "output_type": "execute_result"
    }
   ],
   "source": [
    "lista = [1, 72, 8, 4, 25, 12]\n",
    "lista[0] + lista[1] + lista[2] + lista[3] + lista[4] + lista[5]\n"
   ]
  },
  {
   "cell_type": "code",
   "execution_count": 4,
   "metadata": {},
   "outputs": [
    {
     "ename": "IndentationError",
     "evalue": "unexpected indent (<ipython-input-4-4d3cd3b66e8f>, line 2)",
     "output_type": "error",
     "traceback": [
      "\u001b[1;36m  File \u001b[1;32m\"<ipython-input-4-4d3cd3b66e8f>\"\u001b[1;36m, line \u001b[1;32m2\u001b[0m\n\u001b[1;33m    if(lista[0] == lista[1]){\u001b[0m\n\u001b[1;37m    ^\u001b[0m\n\u001b[1;31mIndentationError\u001b[0m\u001b[1;31m:\u001b[0m unexpected indent\n"
     ]
    }
   ],
   "source": [
    "lista = [1, 72, 8, 4, 25, 12]\n",
    "    if(lista[0] == lista[1]):\n",
    "        cont++\n",
    "    if(lista[0] == lista[2]):\n",
    "        cont++\n",
    "    if(lista[0] == lista[3]):\n",
    "        cont++\n",
    "    if(lista[0] == lista[4]):\n",
    "        cont++\n",
    "    if(lista[0] == lista[5]):\n",
    "        cont++\n",
    "print cont"
   ]
  },
  {
   "cell_type": "code",
   "execution_count": 16,
   "metadata": {},
   "outputs": [
    {
     "data": {
      "text/plain": [
       "20.333333333333332"
      ]
     },
     "execution_count": 16,
     "metadata": {},
     "output_type": "execute_result"
    }
   ],
   "source": [
    "lista = [1, 72, 8, 4, 25, 12]\n",
    "(lista[0] + lista[1] + lista[2] + lista[3] + lista[4] + lista[5]) / 6"
   ]
  },
  {
   "cell_type": "code",
   "execution_count": 7,
   "metadata": {},
   "outputs": [
    {
     "ename": "SyntaxError",
     "evalue": "invalid syntax (<ipython-input-7-2bd7c0bcfdff>, line 2)",
     "output_type": "error",
     "traceback": [
      "\u001b[1;36m  File \u001b[1;32m\"<ipython-input-7-2bd7c0bcfdff>\"\u001b[1;36m, line \u001b[1;32m2\u001b[0m\n\u001b[1;33m    in x;\u001b[0m\n\u001b[1;37m     ^\u001b[0m\n\u001b[1;31mSyntaxError\u001b[0m\u001b[1;31m:\u001b[0m invalid syntax\n"
     ]
    }
   ],
   "source": [
    "lista = [1, 72, 8, 4, 25, 12]\n",
    "in x;\n",
    "x = ((lista[0] + lista[1] + lista[2] + lista[3] + lista[4] + lista[5]) / 6) * -1\n",
    "    for i in lista:{\n",
    "        if(list[0] ):\n",
    "            print lista[0]\n",
    "        if(list[1] ):\n",
    "            print lista[1]\n",
    "        if(list[2] ):\n",
    "            print lista[2]\n",
    "        if(list[3] ):\n",
    "            print lista[3]\n",
    "        if(list[4] ):\n",
    "            print lista [4]\n",
    "        if(list[5] ):\n",
    "            print lista[5]\n",
    "    }"
   ]
  },
  {
   "cell_type": "code",
   "execution_count": 2,
   "metadata": {},
   "outputs": [
    {
     "data": {
      "text/plain": [
       "-20.333333333333332"
      ]
     },
     "execution_count": 2,
     "metadata": {},
     "output_type": "execute_result"
    }
   ],
   "source": [
    "lista = [1, 72, 8, 4, 25, 12]\n",
    "((lista[0] + lista[1] + lista[2] + lista[3] + lista[4] + lista[5]) / 6) * -1"
   ]
  },
  {
   "cell_type": "code",
   "execution_count": 6,
   "metadata": {},
   "outputs": [
    {
     "ename": "SyntaxError",
     "evalue": "invalid syntax (<ipython-input-6-1e18eeb018ef>, line 3)",
     "output_type": "error",
     "traceback": [
      "\u001b[1;36m  File \u001b[1;32m\"<ipython-input-6-1e18eeb018ef>\"\u001b[1;36m, line \u001b[1;32m3\u001b[0m\n\u001b[1;33m    if (lista1 == lista2)\u001b[0m\n\u001b[1;37m                         ^\u001b[0m\n\u001b[1;31mSyntaxError\u001b[0m\u001b[1;31m:\u001b[0m invalid syntax\n"
     ]
    }
   ],
   "source": [
    "lista1 = [22, 5, 4, 66, 202]\n",
    "lista2 = [55, 7, 104, 8, 74]\n",
    "if (lista1 == lista2)\n",
    "    print thue\n",
    "else\n",
    "    print false"
   ]
  },
  {
   "cell_type": "code",
   "execution_count": 7,
   "metadata": {},
   "outputs": [
    {
     "ename": "SyntaxError",
     "evalue": "invalid syntax (<ipython-input-7-a70cb9f12b27>, line 3)",
     "output_type": "error",
     "traceback": [
      "\u001b[1;36m  File \u001b[1;32m\"<ipython-input-7-a70cb9f12b27>\"\u001b[1;36m, line \u001b[1;32m3\u001b[0m\n\u001b[1;33m    if (lista1 == lista2)\u001b[0m\n\u001b[1;37m                         ^\u001b[0m\n\u001b[1;31mSyntaxError\u001b[0m\u001b[1;31m:\u001b[0m invalid syntax\n"
     ]
    }
   ],
   "source": [
    "lista1 = [55, 7, 104, 8, 74]\n",
    "lista2 = [55, 7, 104, 8, 74]\n",
    "if (lista1 == lista2):\n",
    "    print thue\n",
    "else\n",
    "    print false"
   ]
  },
  {
   "cell_type": "code",
   "execution_count": 8,
   "metadata": {},
   "outputs": [
    {
     "ename": "SyntaxError",
     "evalue": "unexpected EOF while parsing (<ipython-input-8-acc9d36cfa28>, line 7)",
     "output_type": "error",
     "traceback": [
      "\u001b[1;36m  File \u001b[1;32m\"<ipython-input-8-acc9d36cfa28>\"\u001b[1;36m, line \u001b[1;32m7\u001b[0m\n\u001b[1;33m    \u001b[0m\n\u001b[1;37m    ^\u001b[0m\n\u001b[1;31mSyntaxError\u001b[0m\u001b[1;31m:\u001b[0m unexpected EOF while parsing\n"
     ]
    }
   ],
   "source": [
    "listaJogo = [['Brasil','Italia', [10, 9]], ['Brasil', 'Espanha', [5, 7]], ['Italia', 'Espanha', [7,8]]]\n",
    "\n",
    "def faltasTotais():\n",
    "    return listaJogo[0][2][0] + listaJogo[0][2][1] + listaJogo[1][2][0] + listaJogo[1][2][1] + listaJogo[2][2][0] + listaJogo[2][2][1]\n",
    "\n",
    "def maisFalta():\n",
    "    if((lista[0][2][0] + lista[1][2][0]) > (lista[0][2][0] + lista[2][2][0]) and (lista[1][2][1] + lista[2][2][1])):\n",
    "        return \"Brasil\"\n",
    "    if((lista[0][2][0] + lista[2][2][0]) > (lista[0][2][0] + lista[2][2][0] and (lista[1][2][1] + lista[2][2][1])):\n",
    "        return \"Italia\"\n",
    "        if(((lista[1][2][1] + lista[2][2][1]) > (lista[0][2][0] + lista[1][2][0]) and (lista[0][2][0] + lista[2][2][0])):\n",
    "        return \"Espanha\"\n",
    "    \n",
    "def menosFalta():\n",
    "    if((lista[0][2][0] + lista[1][2][0]) < (lista[0][2][0] + lista[2][2][0]) and (lista[1][2][1] + lista[2][2][1])):\n",
    "        return \"Brasil\"\n",
    "    if((lista[0][2][0] + lista[2][2][0]) < (lista[0][2][0] + lista[2][2][0] and (lista[1][2][1] + lista[2][2][1])):\n",
    "        return \"Italia\"\n",
    "        if(((lista[1][2][1] + lista[2][2][1]) < (lista[0][2][0] + lista[1][2][0]) and (lista[0][2][0] + lista[2][2][0])):\n",
    "        return \"Espanha\"\n",
    "    "
   ]
  },
  {
   "cell_type": "code",
   "execution_count": null,
   "metadata": {},
   "outputs": [],
   "source": [
    "n = \"abacaxi\"\n",
    "my_dict = {'a':'valor1', 'chave2':'valor2', 'chave3':'valor3'}"
   ]
  },
  {
   "cell_type": "code",
   "execution_count": 12,
   "metadata": {},
   "outputs": [
    {
     "name": "stdout",
     "output_type": "stream",
     "text": [
      "Digite o nome do aluno\n"
     ]
    }
   ],
   "source": [
    "nome = input (\"Digite o nome do aluno\")\n",
    "dicionario = {}\n",
    "\n",
    "def calcula_media (nome):\n",
    "    return (dicionario[nome][0] + dicionario[nome][1]) / 2\n",
    " \n",
    "    \n",
    "def exibe_todas_as_medias():\n",
    "    for aluno in dicionario:\n",
    "        media = (dicionario[aluno][0] + dicionario[aluno][1]) / 2\n",
    "        print (f'{aluno}: {media}')\n",
    "        \n",
    "while len (nome) > 0:\n",
    "    nota1 = float (input (f'Digite a nota 1 do aluno {nome}\\n'))\n",
    "    nota2 = float (input (f'Digite a nota 2 do aluno {nome}\\n'))\n",
    "    dicionario[nome] = (nota1, nota2)\n",
    "    nome = input (\"Digite o nome do próximo aluno\")\n",
    "\n",
    "exibe_todas_as_medias()"
   ]
  },
  {
   "cell_type": "code",
   "execution_count": 17,
   "metadata": {},
   "outputs": [
    {
     "ename": "SyntaxError",
     "evalue": "invalid syntax (<ipython-input-17-3ac2020026d5>, line 10)",
     "output_type": "error",
     "traceback": [
      "\u001b[1;36m  File \u001b[1;32m\"<ipython-input-17-3ac2020026d5>\"\u001b[1;36m, line \u001b[1;32m10\u001b[0m\n\u001b[1;33m    media = (dicionario[Corredor][0] + dicionario[Corredor][1]) + dicionario[Corredor][2] + dicionario[Corredor][3] + dicionario[Corredor][4] + dicionario[Corredor][5])/ 6\u001b[0m\n\u001b[1;37m                                                                                                                                                                       ^\u001b[0m\n\u001b[1;31mSyntaxError\u001b[0m\u001b[1;31m:\u001b[0m invalid syntax\n"
     ]
    }
   ],
   "source": [
    "nome = input (\"Nome do corredor\")\n",
    "dicionario = {}\n",
    "\n",
    "def calcula_volta (nome):\n",
    "    return (dicionario[nome][0] + dicionario[nome][1]) / 6\n",
    " \n",
    "    \n",
    "def exibe_todas_as_voltas():\n",
    "    for aluno in dicionario:\n",
    "        media = (dicionario[Corredor][0] + dicionario[Corredor][1]) + dicionario[Corredor][2] + dicionario[Corredor][3] + dicionario[Corredor][4] + dicionario[Corredor][5])/ 6\n",
    "        print (f'{Corredor}: {volta}')\n",
    "        \n",
    "while len (nome) > 0:\n",
    "    volta1 = float (input (f'Digite a volta 1 do corredor {nome}\\n'))\n",
    "    volta2 = float (input (f'Digite a volta 2 do corredor {nome}\\n'))\n",
    "    volta3 = float (input (f'Digite a volta 3 do corredor {nome}\\n'))\n",
    "    volta4 = float (input (f'Digite a volta 4 do corredor {nome}\\n'))\n",
    "    volta5 = float (input (f'Digite a volta 5 do corredor {nome}\\n'))\n",
    "    volta6 = float (input (f'Digite a volta 6 do corredor {nome}\\n'))\n",
    "    dicionario[nome] = (volta1, volta2, volta3, volta4, volta5, volta6)\n",
    "    nome = input (\"Digite o nome do próximo corredor\")\n",
    "\n",
    "exibe_todas_as_voltas()"
   ]
  },
  {
   "cell_type": "code",
   "execution_count": 5,
   "metadata": {},
   "outputs": [
    {
     "name": "stdout",
     "output_type": "stream",
     "text": [
      "Digite o nome para a agenda \n",
      "Digite o telefone \n"
     ]
    },
    {
     "ename": "TypeError",
     "evalue": "incluirNovoNome() missing 1 required positional argument: 'nome'",
     "output_type": "error",
     "traceback": [
      "\u001b[1;31m---------------------------------------------------------------------------\u001b[0m",
      "\u001b[1;31mTypeError\u001b[0m                                 Traceback (most recent call last)",
      "\u001b[1;32m<ipython-input-5-47e72773229e>\u001b[0m in \u001b[0;36m<module>\u001b[1;34m\u001b[0m\n\u001b[0;32m     12\u001b[0m     \u001b[0mnome\u001b[0m \u001b[1;33m=\u001b[0m \u001b[0minput\u001b[0m \u001b[1;33m(\u001b[0m\u001b[1;34m\"Digite o proximo nome\"\u001b[0m\u001b[1;33m)\u001b[0m\u001b[1;33m\u001b[0m\u001b[1;33m\u001b[0m\u001b[0m\n\u001b[0;32m     13\u001b[0m \u001b[1;33m\u001b[0m\u001b[0m\n\u001b[1;32m---> 14\u001b[1;33m \u001b[0mincluirNovoNome\u001b[0m\u001b[1;33m(\u001b[0m\u001b[1;33m)\u001b[0m\u001b[1;33m\u001b[0m\u001b[1;33m\u001b[0m\u001b[0m\n\u001b[0m",
      "\u001b[1;31mTypeError\u001b[0m: incluirNovoNome() missing 1 required positional argument: 'nome'"
     ]
    }
   ],
   "source": [
    "nome = input (\"Digite o nome para a agenda \")\n",
    "telefone = input (\"Digite o telefone \")\n",
    "dicionario = {}\n",
    "\n",
    "def incluirNovoNome (nome):\n",
    "    return (dicionario[nome][telefone])\n",
    "        \n",
    "while len (nome) > 0:\n",
    "    nomeETelefone = float (input (f'Digite o nome {nome}\\n'))\n",
    "    nomeETelefone0 = float (input (f'Digite o telefone {telefone}\\n'))\n",
    "    dicionario[nome][telefone] = (nomeETelefone, nomeETelefone0)\n",
    "    nome = input (\"Digite o proximo nome\")\n",
    "\n",
    "incluirNovoNome()"
   ]
  },
  {
   "cell_type": "code",
   "execution_count": null,
   "metadata": {},
   "outputs": [],
   "source": []
  }
 ],
 "metadata": {
  "kernelspec": {
   "display_name": "Python 3",
   "language": "python",
   "name": "python3"
  },
  "language_info": {
   "codemirror_mode": {
    "name": "ipython",
    "version": 3
   },
   "file_extension": ".py",
   "mimetype": "text/x-python",
   "name": "python",
   "nbconvert_exporter": "python",
   "pygments_lexer": "ipython3",
   "version": "3.7.1"
  }
 },
 "nbformat": 4,
 "nbformat_minor": 2
}
